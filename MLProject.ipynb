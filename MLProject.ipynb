{
  "nbformat": 4,
  "nbformat_minor": 0,
  "metadata": {
    "colab": {
      "name": "MLProject.ipynb",
      "provenance": []
    },
    "kernelspec": {
      "name": "python3",
      "display_name": "Python 3"
    }
  },
  "cells": [
    {
      "cell_type": "code",
      "metadata": {
        "id": "qCqsWnLWeEQl",
        "colab_type": "code",
        "colab": {}
      },
      "source": [
        "from google.colab import files\n",
        "files.upload()"
      ],
      "execution_count": 0,
      "outputs": []
    },
    {
      "cell_type": "code",
      "metadata": {
        "id": "39jKNeWpgYOL",
        "colab_type": "code",
        "outputId": "123c318e-b373-455f-e714-ffad0051b41d",
        "colab": {
          "base_uri": "https://localhost:8080/",
          "height": 204
        }
      },
      "source": [
        "ncaa = pd.read_csv('NCAATourneyCompactResults.csv')\n",
        "ncaa = ncaa.loc[ncaa['Season'] >= 2001]\n",
        "ncaa.head()\n"
      ],
      "execution_count": 0,
      "outputs": [
        {
          "output_type": "execute_result",
          "data": {
            "text/html": [
              "<div>\n",
              "<style scoped>\n",
              "    .dataframe tbody tr th:only-of-type {\n",
              "        vertical-align: middle;\n",
              "    }\n",
              "\n",
              "    .dataframe tbody tr th {\n",
              "        vertical-align: top;\n",
              "    }\n",
              "\n",
              "    .dataframe thead th {\n",
              "        text-align: right;\n",
              "    }\n",
              "</style>\n",
              "<table border=\"1\" class=\"dataframe\">\n",
              "  <thead>\n",
              "    <tr style=\"text-align: right;\">\n",
              "      <th></th>\n",
              "      <th>Season</th>\n",
              "      <th>DayNum</th>\n",
              "      <th>WTeamID</th>\n",
              "      <th>WScore</th>\n",
              "      <th>LTeamID</th>\n",
              "      <th>LScore</th>\n",
              "      <th>WLoc</th>\n",
              "      <th>NumOT</th>\n",
              "    </tr>\n",
              "  </thead>\n",
              "  <tbody>\n",
              "    <tr>\n",
              "      <th>1008</th>\n",
              "      <td>2001</td>\n",
              "      <td>134</td>\n",
              "      <td>1322</td>\n",
              "      <td>71</td>\n",
              "      <td>1457</td>\n",
              "      <td>67</td>\n",
              "      <td>N</td>\n",
              "      <td>0</td>\n",
              "    </tr>\n",
              "    <tr>\n",
              "      <th>1009</th>\n",
              "      <td>2001</td>\n",
              "      <td>136</td>\n",
              "      <td>1130</td>\n",
              "      <td>68</td>\n",
              "      <td>1381</td>\n",
              "      <td>65</td>\n",
              "      <td>N</td>\n",
              "      <td>0</td>\n",
              "    </tr>\n",
              "    <tr>\n",
              "      <th>1010</th>\n",
              "      <td>2001</td>\n",
              "      <td>136</td>\n",
              "      <td>1153</td>\n",
              "      <td>84</td>\n",
              "      <td>1140</td>\n",
              "      <td>59</td>\n",
              "      <td>N</td>\n",
              "      <td>0</td>\n",
              "    </tr>\n",
              "    <tr>\n",
              "      <th>1011</th>\n",
              "      <td>2001</td>\n",
              "      <td>136</td>\n",
              "      <td>1181</td>\n",
              "      <td>95</td>\n",
              "      <td>1284</td>\n",
              "      <td>52</td>\n",
              "      <td>N</td>\n",
              "      <td>0</td>\n",
              "    </tr>\n",
              "    <tr>\n",
              "      <th>1012</th>\n",
              "      <td>2001</td>\n",
              "      <td>136</td>\n",
              "      <td>1207</td>\n",
              "      <td>63</td>\n",
              "      <td>1116</td>\n",
              "      <td>61</td>\n",
              "      <td>N</td>\n",
              "      <td>0</td>\n",
              "    </tr>\n",
              "  </tbody>\n",
              "</table>\n",
              "</div>"
            ],
            "text/plain": [
              "      Season  DayNum  WTeamID  WScore  LTeamID  LScore WLoc  NumOT\n",
              "1008    2001     134     1322      71     1457      67    N      0\n",
              "1009    2001     136     1130      68     1381      65    N      0\n",
              "1010    2001     136     1153      84     1140      59    N      0\n",
              "1011    2001     136     1181      95     1284      52    N      0\n",
              "1012    2001     136     1207      63     1116      61    N      0"
            ]
          },
          "metadata": {
            "tags": []
          },
          "execution_count": 66
        }
      ]
    },
    {
      "cell_type": "code",
      "metadata": {
        "id": "mEpPjt6oiU-W",
        "colab_type": "code",
        "outputId": "1e8ba950-2f49-47a7-b4e7-144800bb4718",
        "colab": {
          "base_uri": "https://localhost:8080/",
          "height": 204
        }
      },
      "source": [
        "conf = pd.read_csv('ConferenceTourneyGames.csv')\n",
        "conf = conf[['Season','WTeamID','LTeamID']]\n",
        "conf.head()"
      ],
      "execution_count": 0,
      "outputs": [
        {
          "output_type": "execute_result",
          "data": {
            "text/html": [
              "<div>\n",
              "<style scoped>\n",
              "    .dataframe tbody tr th:only-of-type {\n",
              "        vertical-align: middle;\n",
              "    }\n",
              "\n",
              "    .dataframe tbody tr th {\n",
              "        vertical-align: top;\n",
              "    }\n",
              "\n",
              "    .dataframe thead th {\n",
              "        text-align: right;\n",
              "    }\n",
              "</style>\n",
              "<table border=\"1\" class=\"dataframe\">\n",
              "  <thead>\n",
              "    <tr style=\"text-align: right;\">\n",
              "      <th></th>\n",
              "      <th>Season</th>\n",
              "      <th>WTeamID</th>\n",
              "      <th>LTeamID</th>\n",
              "    </tr>\n",
              "  </thead>\n",
              "  <tbody>\n",
              "    <tr>\n",
              "      <th>0</th>\n",
              "      <td>2001</td>\n",
              "      <td>1194</td>\n",
              "      <td>1144</td>\n",
              "    </tr>\n",
              "    <tr>\n",
              "      <th>1</th>\n",
              "      <td>2001</td>\n",
              "      <td>1416</td>\n",
              "      <td>1240</td>\n",
              "    </tr>\n",
              "    <tr>\n",
              "      <th>2</th>\n",
              "      <td>2001</td>\n",
              "      <td>1209</td>\n",
              "      <td>1194</td>\n",
              "    </tr>\n",
              "    <tr>\n",
              "      <th>3</th>\n",
              "      <td>2001</td>\n",
              "      <td>1359</td>\n",
              "      <td>1239</td>\n",
              "    </tr>\n",
              "    <tr>\n",
              "      <th>4</th>\n",
              "      <td>2001</td>\n",
              "      <td>1391</td>\n",
              "      <td>1273</td>\n",
              "    </tr>\n",
              "  </tbody>\n",
              "</table>\n",
              "</div>"
            ],
            "text/plain": [
              "   Season  WTeamID  LTeamID\n",
              "0    2001     1194     1144\n",
              "1    2001     1416     1240\n",
              "2    2001     1209     1194\n",
              "3    2001     1359     1239\n",
              "4    2001     1391     1273"
            ]
          },
          "metadata": {
            "tags": []
          },
          "execution_count": 90
        }
      ]
    },
    {
      "cell_type": "code",
      "metadata": {
        "id": "rYyRY3vxermp",
        "colab_type": "code",
        "outputId": "a1cbff41-7f10-4ea9-ca87-8e8764edca04",
        "colab": {
          "base_uri": "https://localhost:8080/",
          "height": 204
        }
      },
      "source": [
        "import pandas as pd\n",
        "reg_season = pd.read_csv('RegularSeasonCompactResults.csv')\n",
        "reg_season = reg_season[reg_season['Season'] >= 2001][['Season','WTeamID','LTeamID']]\n",
        "reg_season.head()"
      ],
      "execution_count": 0,
      "outputs": [
        {
          "output_type": "execute_result",
          "data": {
            "text/html": [
              "<div>\n",
              "<style scoped>\n",
              "    .dataframe tbody tr th:only-of-type {\n",
              "        vertical-align: middle;\n",
              "    }\n",
              "\n",
              "    .dataframe tbody tr th {\n",
              "        vertical-align: top;\n",
              "    }\n",
              "\n",
              "    .dataframe thead th {\n",
              "        text-align: right;\n",
              "    }\n",
              "</style>\n",
              "<table border=\"1\" class=\"dataframe\">\n",
              "  <thead>\n",
              "    <tr style=\"text-align: right;\">\n",
              "      <th></th>\n",
              "      <th>Season</th>\n",
              "      <th>WTeamID</th>\n",
              "      <th>LTeamID</th>\n",
              "    </tr>\n",
              "  </thead>\n",
              "  <tbody>\n",
              "    <tr>\n",
              "      <th>65026</th>\n",
              "      <td>2001</td>\n",
              "      <td>1242</td>\n",
              "      <td>1417</td>\n",
              "    </tr>\n",
              "    <tr>\n",
              "      <th>65027</th>\n",
              "      <td>2001</td>\n",
              "      <td>1385</td>\n",
              "      <td>1246</td>\n",
              "    </tr>\n",
              "    <tr>\n",
              "      <th>65028</th>\n",
              "      <td>2001</td>\n",
              "      <td>1242</td>\n",
              "      <td>1385</td>\n",
              "    </tr>\n",
              "    <tr>\n",
              "      <th>65029</th>\n",
              "      <td>2001</td>\n",
              "      <td>1314</td>\n",
              "      <td>1457</td>\n",
              "    </tr>\n",
              "    <tr>\n",
              "      <th>65030</th>\n",
              "      <td>2001</td>\n",
              "      <td>1409</td>\n",
              "      <td>1113</td>\n",
              "    </tr>\n",
              "  </tbody>\n",
              "</table>\n",
              "</div>"
            ],
            "text/plain": [
              "       Season  WTeamID  LTeamID\n",
              "65026    2001     1242     1417\n",
              "65027    2001     1385     1246\n",
              "65028    2001     1242     1385\n",
              "65029    2001     1314     1457\n",
              "65030    2001     1409     1113"
            ]
          },
          "metadata": {
            "tags": []
          },
          "execution_count": 89
        }
      ]
    },
    {
      "cell_type": "code",
      "metadata": {
        "id": "nXRki0Nak0-P",
        "colab_type": "code",
        "colab": {}
      },
      "source": [
        "compare = ncaa[['Season','WTeamID','LTeamID']].copy()\n",
        "#for i in compare.index:\n",
        "#  current_row = compare.loc[i]\n",
        "  \n"
      ],
      "execution_count": 0,
      "outputs": []
    },
    {
      "cell_type": "code",
      "metadata": {
        "id": "TC619OUL3BDA",
        "colab_type": "code",
        "colab": {}
      },
      "source": [
        "reg = pd.concat([reg_season,conf])\n",
        "reg['Win_TeamID'] = reg['WTeamID']\n",
        "reg.loc[reg['WTeamID'] > reg['LTeamID'], ['WTeamID', 'LTeamID']] = reg.loc[reg['WTeamID'] > reg['LTeamID'], ['LTeamID', 'WTeamID']].values\n",
        "reg = reg.rename(columns = {'WTeamID' : 'Team1', 'LTeamID': 'Team2'})\n"
      ],
      "execution_count": 0,
      "outputs": []
    },
    {
      "cell_type": "code",
      "metadata": {
        "id": "G6n4WZxC1cuX",
        "colab_type": "code",
        "outputId": "59ca3f79-6ed8-4118-8747-eb5fb211c6a2",
        "colab": {
          "base_uri": "https://localhost:8080/",
          "height": 419
        }
      },
      "source": [
        "compare = ncaa[['Season','WTeamID','LTeamID']].copy()\n",
        "compare['Win_TeamID'] = compare['WTeamID']\n",
        "compare.loc[compare['WTeamID'] > compare['LTeamID'], ['WTeamID', 'LTeamID']] = compare.loc[compare['WTeamID'] > compare['LTeamID'], ['LTeamID', 'WTeamID']].values\n",
        "compare = compare.rename(columns = {'Season': 'compare_Season','WTeamID' : 'compare_Team1', 'LTeamID': 'compare_Team2','Win_TeamID': 'compare_Win_TeamID'})\n"
      ],
      "execution_count": 0,
      "outputs": [
        {
          "output_type": "execute_result",
          "data": {
            "text/html": [
              "<div>\n",
              "<style scoped>\n",
              "    .dataframe tbody tr th:only-of-type {\n",
              "        vertical-align: middle;\n",
              "    }\n",
              "\n",
              "    .dataframe tbody tr th {\n",
              "        vertical-align: top;\n",
              "    }\n",
              "\n",
              "    .dataframe thead th {\n",
              "        text-align: right;\n",
              "    }\n",
              "</style>\n",
              "<table border=\"1\" class=\"dataframe\">\n",
              "  <thead>\n",
              "    <tr style=\"text-align: right;\">\n",
              "      <th></th>\n",
              "      <th>compare_Season</th>\n",
              "      <th>compare_Team1</th>\n",
              "      <th>compare_Team2</th>\n",
              "      <th>compare_Win_TeamID</th>\n",
              "    </tr>\n",
              "  </thead>\n",
              "  <tbody>\n",
              "    <tr>\n",
              "      <th>1008</th>\n",
              "      <td>2001</td>\n",
              "      <td>1322</td>\n",
              "      <td>1457</td>\n",
              "      <td>1322</td>\n",
              "    </tr>\n",
              "    <tr>\n",
              "      <th>1009</th>\n",
              "      <td>2001</td>\n",
              "      <td>1130</td>\n",
              "      <td>1381</td>\n",
              "      <td>1130</td>\n",
              "    </tr>\n",
              "    <tr>\n",
              "      <th>1010</th>\n",
              "      <td>2001</td>\n",
              "      <td>1140</td>\n",
              "      <td>1153</td>\n",
              "      <td>1153</td>\n",
              "    </tr>\n",
              "    <tr>\n",
              "      <th>1011</th>\n",
              "      <td>2001</td>\n",
              "      <td>1181</td>\n",
              "      <td>1284</td>\n",
              "      <td>1181</td>\n",
              "    </tr>\n",
              "    <tr>\n",
              "      <th>1012</th>\n",
              "      <td>2001</td>\n",
              "      <td>1116</td>\n",
              "      <td>1207</td>\n",
              "      <td>1207</td>\n",
              "    </tr>\n",
              "    <tr>\n",
              "      <th>...</th>\n",
              "      <td>...</td>\n",
              "      <td>...</td>\n",
              "      <td>...</td>\n",
              "      <td>...</td>\n",
              "    </tr>\n",
              "    <tr>\n",
              "      <th>2179</th>\n",
              "      <td>2018</td>\n",
              "      <td>1181</td>\n",
              "      <td>1242</td>\n",
              "      <td>1242</td>\n",
              "    </tr>\n",
              "    <tr>\n",
              "      <th>2180</th>\n",
              "      <td>2018</td>\n",
              "      <td>1403</td>\n",
              "      <td>1437</td>\n",
              "      <td>1437</td>\n",
              "    </tr>\n",
              "    <tr>\n",
              "      <th>2181</th>\n",
              "      <td>2018</td>\n",
              "      <td>1260</td>\n",
              "      <td>1276</td>\n",
              "      <td>1276</td>\n",
              "    </tr>\n",
              "    <tr>\n",
              "      <th>2182</th>\n",
              "      <td>2018</td>\n",
              "      <td>1242</td>\n",
              "      <td>1437</td>\n",
              "      <td>1437</td>\n",
              "    </tr>\n",
              "    <tr>\n",
              "      <th>2183</th>\n",
              "      <td>2018</td>\n",
              "      <td>1276</td>\n",
              "      <td>1437</td>\n",
              "      <td>1437</td>\n",
              "    </tr>\n",
              "  </tbody>\n",
              "</table>\n",
              "<p>1176 rows × 4 columns</p>\n",
              "</div>"
            ],
            "text/plain": [
              "      compare_Season  compare_Team1  compare_Team2  compare_Win_TeamID\n",
              "1008            2001           1322           1457                1322\n",
              "1009            2001           1130           1381                1130\n",
              "1010            2001           1140           1153                1153\n",
              "1011            2001           1181           1284                1181\n",
              "1012            2001           1116           1207                1207\n",
              "...              ...            ...            ...                 ...\n",
              "2179            2018           1181           1242                1242\n",
              "2180            2018           1403           1437                1437\n",
              "2181            2018           1260           1276                1276\n",
              "2182            2018           1242           1437                1437\n",
              "2183            2018           1276           1437                1437\n",
              "\n",
              "[1176 rows x 4 columns]"
            ]
          },
          "metadata": {
            "tags": []
          },
          "execution_count": 121
        }
      ]
    },
    {
      "cell_type": "code",
      "metadata": {
        "id": "UnexHYHOG7SJ",
        "colab_type": "code",
        "outputId": "e53bd394-0240-42fc-879f-6c1f20e7bf88",
        "colab": {
          "base_uri": "https://localhost:8080/",
          "height": 170
        }
      },
      "source": [
        "compare[['compare_Season','compare_Team1','compare_Team2','compare_Win_TeamID']].loc[2179]\n",
        "pd.concat([compare[['compare_Season','compare_Team1','compare_Team2','compare_Win_TeamID']].loc[2179],compare[['compare_Season','compare_Team1','compare_Team2','compare_Win_TeamID']].loc[2180]])"
      ],
      "execution_count": 0,
      "outputs": [
        {
          "output_type": "execute_result",
          "data": {
            "text/plain": [
              "compare_Season        2018\n",
              "compare_Team1         1181\n",
              "compare_Team2         1242\n",
              "compare_Win_TeamID    1242\n",
              "compare_Season        2018\n",
              "compare_Team1         1403\n",
              "compare_Team2         1437\n",
              "compare_Win_TeamID    1437\n",
              "dtype: int64"
            ]
          },
          "metadata": {
            "tags": []
          },
          "execution_count": 174
        }
      ]
    },
    {
      "cell_type": "code",
      "metadata": {
        "id": "qW9M8PsB86Bx",
        "colab_type": "code",
        "colab": {}
      },
      "source": [
        "final = pd.DataFrame()\n",
        "for i in compare.index:\n",
        "  temp = reg.loc[reg['Season'] == compare['compare_Season'].loc[i]]\n",
        "  temp = temp.loc[temp['Team1'] == compare['compare_Team1'].loc[i]]\n",
        "  temp = temp.loc[temp['Team2'] == compare['compare_Team2'].loc[i]]\n",
        "  if len(temp) > 0: temp['actual_win'] = compare['compare_Win_TeamID'].loc[i]\n",
        "  final = pd.concat([final,temp])\n",
        "  \n",
        "final"
      ],
      "execution_count": 0,
      "outputs": []
    },
    {
      "cell_type": "code",
      "metadata": {
        "id": "5QMeMTi8OH92",
        "colab_type": "code",
        "outputId": "fec08b33-abe7-4a56-c7b9-f30b39948225",
        "colab": {
          "base_uri": "https://localhost:8080/",
          "height": 419
        }
      },
      "source": [
        "final"
      ],
      "execution_count": 0,
      "outputs": [
        {
          "output_type": "execute_result",
          "data": {
            "text/html": [
              "<div>\n",
              "<style scoped>\n",
              "    .dataframe tbody tr th:only-of-type {\n",
              "        vertical-align: middle;\n",
              "    }\n",
              "\n",
              "    .dataframe tbody tr th {\n",
              "        vertical-align: top;\n",
              "    }\n",
              "\n",
              "    .dataframe thead th {\n",
              "        text-align: right;\n",
              "    }\n",
              "</style>\n",
              "<table border=\"1\" class=\"dataframe\">\n",
              "  <thead>\n",
              "    <tr style=\"text-align: right;\">\n",
              "      <th></th>\n",
              "      <th>Season</th>\n",
              "      <th>Team1</th>\n",
              "      <th>Team2</th>\n",
              "      <th>Win_TeamID</th>\n",
              "      <th>actual_win</th>\n",
              "    </tr>\n",
              "  </thead>\n",
              "  <tbody>\n",
              "    <tr>\n",
              "      <th>66420</th>\n",
              "      <td>2001</td>\n",
              "      <td>1112</td>\n",
              "      <td>1139</td>\n",
              "      <td>1112</td>\n",
              "      <td>1112.0</td>\n",
              "    </tr>\n",
              "    <tr>\n",
              "      <th>65958</th>\n",
              "      <td>2001</td>\n",
              "      <td>1336</td>\n",
              "      <td>1396</td>\n",
              "      <td>1336</td>\n",
              "      <td>1396.0</td>\n",
              "    </tr>\n",
              "    <tr>\n",
              "      <th>65269</th>\n",
              "      <td>2001</td>\n",
              "      <td>1112</td>\n",
              "      <td>1228</td>\n",
              "      <td>1112</td>\n",
              "      <td>1112.0</td>\n",
              "    </tr>\n",
              "    <tr>\n",
              "      <th>66093</th>\n",
              "      <td>2001</td>\n",
              "      <td>1112</td>\n",
              "      <td>1228</td>\n",
              "      <td>1228</td>\n",
              "      <td>1112.0</td>\n",
              "    </tr>\n",
              "    <tr>\n",
              "      <th>67695</th>\n",
              "      <td>2001</td>\n",
              "      <td>1181</td>\n",
              "      <td>1268</td>\n",
              "      <td>1181</td>\n",
              "      <td>1181.0</td>\n",
              "    </tr>\n",
              "    <tr>\n",
              "      <th>...</th>\n",
              "      <td>...</td>\n",
              "      <td>...</td>\n",
              "      <td>...</td>\n",
              "      <td>...</td>\n",
              "      <td>...</td>\n",
              "    </tr>\n",
              "    <tr>\n",
              "      <th>148255</th>\n",
              "      <td>2017</td>\n",
              "      <td>1196</td>\n",
              "      <td>1376</td>\n",
              "      <td>1376</td>\n",
              "      <td>1376.0</td>\n",
              "    </tr>\n",
              "    <tr>\n",
              "      <th>149865</th>\n",
              "      <td>2017</td>\n",
              "      <td>1196</td>\n",
              "      <td>1376</td>\n",
              "      <td>1196</td>\n",
              "      <td>1376.0</td>\n",
              "    </tr>\n",
              "    <tr>\n",
              "      <th>151389</th>\n",
              "      <td>2018</td>\n",
              "      <td>1211</td>\n",
              "      <td>1326</td>\n",
              "      <td>1211</td>\n",
              "      <td>1211.0</td>\n",
              "    </tr>\n",
              "    <tr>\n",
              "      <th>152322</th>\n",
              "      <td>2018</td>\n",
              "      <td>1139</td>\n",
              "      <td>1345</td>\n",
              "      <td>1345</td>\n",
              "      <td>1345.0</td>\n",
              "    </tr>\n",
              "    <tr>\n",
              "      <th>155453</th>\n",
              "      <td>2018</td>\n",
              "      <td>1181</td>\n",
              "      <td>1393</td>\n",
              "      <td>1181</td>\n",
              "      <td>1181.0</td>\n",
              "    </tr>\n",
              "  </tbody>\n",
              "</table>\n",
              "<p>63 rows × 5 columns</p>\n",
              "</div>"
            ],
            "text/plain": [
              "        Season  Team1  Team2  Win_TeamID  actual_win\n",
              "66420     2001   1112   1139        1112      1112.0\n",
              "65958     2001   1336   1396        1336      1396.0\n",
              "65269     2001   1112   1228        1112      1112.0\n",
              "66093     2001   1112   1228        1228      1112.0\n",
              "67695     2001   1181   1268        1181      1181.0\n",
              "...        ...    ...    ...         ...         ...\n",
              "148255    2017   1196   1376        1376      1376.0\n",
              "149865    2017   1196   1376        1196      1376.0\n",
              "151389    2018   1211   1326        1211      1211.0\n",
              "152322    2018   1139   1345        1345      1345.0\n",
              "155453    2018   1181   1393        1181      1181.0\n",
              "\n",
              "[63 rows x 5 columns]"
            ]
          },
          "metadata": {
            "tags": []
          },
          "execution_count": 231
        }
      ]
    },
    {
      "cell_type": "code",
      "metadata": {
        "id": "ZPSjGqB6GEd5",
        "colab_type": "code",
        "outputId": "ade1f633-1bd1-4bb2-e840-c3beeac22caa",
        "colab": {
          "base_uri": "https://localhost:8080/",
          "height": 34
        }
      },
      "source": [
        "\n",
        "final_count = final.groupby(['Season','Team1','Team2']).size().reset_index().rename(columns={0:'count'})\n",
        "final_merged = final_count.merge(final,how = 'left')\n",
        "final_merged['T1_wins'] = [1 if final_merged['Team1'].loc[x] == final_merged['Win_TeamID'].loc[x] else -1 for x in final_merged.index]\n",
        "\n",
        "final_merged['Actual_T1_wins'] = [1 if final_merged['Team1'].loc[x] == final_merged['actual_win'].loc[x] else -1 for x in final_merged.index]\n",
        "a = final_merged.groupby(['Season', 'Team1','Team2'])['T1_wins'].sum()\n",
        "b = final_merged.groupby(['Season', 'Team1','Team2'])['Actual_T1_wins'].sum()\n",
        "comp = a.to_frame()\n",
        "comp['actual'] = b\n",
        "\n",
        "\n",
        "neutral = sum(1 for x in comp['T1_wins'] if x == 0)\n",
        "correct = sum(comp['T1_wins'] == comp['actual'])\n",
        "wrong = sum(comp['T1_wins'] != comp['actual'])\n"
      ],
      "execution_count": 0,
      "outputs": [
        {
          "output_type": "execute_result",
          "data": {
            "text/plain": [
              "21"
            ]
          },
          "metadata": {
            "tags": []
          },
          "execution_count": 302
        }
      ]
    },
    {
      "cell_type": "code",
      "metadata": {
        "id": "3bzkJ2HnZuRM",
        "colab_type": "code",
        "outputId": "f73d7239-45bb-4327-915f-772e4864d398",
        "colab": {
          "base_uri": "https://localhost:8080/",
          "height": 350
        }
      },
      "source": [
        "import matplotlib.pyplot as plt\n",
        "plt.pie(x = [correct, neutral, wrong],labels = ['correct','neutral','wrong'])"
      ],
      "execution_count": 0,
      "outputs": [
        {
          "output_type": "execute_result",
          "data": {
            "text/plain": [
              "([<matplotlib.patches.Wedge at 0x7f0b96917278>,\n",
              "  <matplotlib.patches.Wedge at 0x7f0b96917710>,\n",
              "  <matplotlib.patches.Wedge at 0x7f0b96917ba8>],\n",
              " [Text(-0.32836625761287086, 1.0498455128547808, 'correct'),\n",
              "  Text(-0.8295173176268908, -0.7224271726320156, 'neutral'),\n",
              "  Text(0.44186488769512783, -1.0073506941587782, 'wrong')])"
            ]
          },
          "metadata": {
            "tags": []
          },
          "execution_count": 311
        },
        {
          "output_type": "display_data",
          "data": {
            "image/png": "[encoded data removed]",
            "text/plain": [
              "<Figure size 432x288 with 1 Axes>"
            ]
          },
          "metadata": {
            "tags": []
          }
        }
      ]
    },
    {
      "cell_type": "code",
      "metadata": {
        "id": "8z54vw-rTTgM",
        "colab_type": "code",
        "colab": {}
      },
      "source": [
        "max_count = max(final_merged['count'])\n",
        "season = range(2001,2019)\n",
        "right = [0] * len(season)\n",
        "wrong = [0] * len(season)\n",
        "neutral = [0] * len(season)\n",
        "for i in season: \n",
        "  current = final_merged.loc[final_merged['Season']==i]\n",
        "  for j in current.index: \n",
        "    if current['count'].loc[j] == 1:\n",
        "      if current['Win_TeamID'].loc[j] == current['actual_win'].loc[j]:\n",
        "        right[i] = right[i] + 1\n",
        "      else: \n",
        "        wrong[i] = wrong[i] + 1\n",
        "    else: \n",
        "      temp1, temp2 = 0,0\n",
        "      temp1 = count()\n",
        "\n",
        "final_merged"
      ],
      "execution_count": 0,
      "outputs": []
    },
    {
      "cell_type": "code",
      "metadata": {
        "id": "-TuDCiUKRvIr",
        "colab_type": "code",
        "colab": {}
      },
      "source": [
        "final.index"
      ],
      "execution_count": 0,
      "outputs": []
    },
    {
      "cell_type": "code",
      "metadata": {
        "id": "hmnKSus5RHMb",
        "colab_type": "code",
        "outputId": "52e3dcdd-f6e3-4a2f-9a06-a184edc4f7c6",
        "colab": {
          "base_uri": "https://localhost:8080/",
          "height": 34
        }
      },
      "source": [
        "a = [0]*10\n",
        "a"
      ],
      "execution_count": 0,
      "outputs": [
        {
          "output_type": "execute_result",
          "data": {
            "text/plain": [
              "[0, 0, 0, 0, 0, 0, 0, 0, 0, 0]"
            ]
          },
          "metadata": {
            "tags": []
          },
          "execution_count": 243
        }
      ]
    },
    {
      "cell_type": "code",
      "metadata": {
        "id": "M8AbUP94Qsl1",
        "colab_type": "code",
        "colab": {}
      },
      "source": [
        ""
      ],
      "execution_count": 0,
      "outputs": []
    },
    {
      "cell_type": "code",
      "metadata": {
        "id": "QGGimlVI_dBD",
        "colab_type": "code",
        "colab": {}
      },
      "source": [
        "final = pd.concat([compare.reset_index(drop= True), reg.reset_index(drop= True)],axis = 1)\n",
        "final "
      ],
      "execution_count": 0,
      "outputs": []
    },
    {
      "cell_type": "code",
      "metadata": {
        "id": "1zdpVLJOeXV5",
        "colab_type": "code",
        "colab": {}
      },
      "source": [
        ""
      ],
      "execution_count": 0,
      "outputs": []
    }
  ]
}