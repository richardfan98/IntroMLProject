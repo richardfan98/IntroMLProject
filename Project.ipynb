{
  "nbformat": 4,
  "nbformat_minor": 0,
  "metadata": {
    "colab": {
      "name": "Project",
      "provenance": [],
      "include_colab_link": true
    },
    "kernelspec": {
      "name": "python3",
      "display_name": "Python 3"
    }
  },
  "cells": [
    {
      "cell_type": "markdown",
      "metadata": {
        "id": "view-in-github",
        "colab_type": "text"
      },
      "source": [
        "<a href=\"https://colab.research.google.com/github/richardfan98/IntroMLProject/blob/master/Project.ipynb\" target=\"_parent\"><img src=\"https://colab.research.google.com/assets/colab-badge.svg\" alt=\"Open In Colab\"/></a>"
      ]
    },
    {
      "cell_type": "code",
      "metadata": {
        "id": "5RusWNOsNOog",
        "colab_type": "code",
        "outputId": "b52f3a61-6ec4-4428-aaf2-33ef3747104d",
        "colab": {
          "resources": {
            "http://localhost:8080/nbextensions/google.colab/files.js": {
              "data": "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",
              "ok": true,
              "headers": [
                [
                  "content-type",
                  "application/javascript"
                ]
              ],
              "status": 200,
              "status_text": ""
            }
          },
          "base_uri": "https://localhost:8080/",
          "height": 71
        }
      },
      "source": [
        "from google.colab import files\n",
        "a = files.upload()"
      ],
      "execution_count": 0,
      "outputs": [
        {
          "output_type": "display_data",
          "data": {
            "text/html": [
              "\n",
              "     <input type=\"file\" id=\"files-148db4fd-f89b-4e48-ae27-19d2a015f473\" name=\"files[]\" multiple disabled />\n",
              "     <output id=\"result-148db4fd-f89b-4e48-ae27-19d2a015f473\">\n",
              "      Upload widget is only available when the cell has been executed in the\n",
              "      current browser session. Please rerun this cell to enable.\n",
              "      </output>\n",
              "      <script src=\"/nbextensions/google.colab/files.js\"></script> "
            ],
            "text/plain": [
              "<IPython.core.display.HTML object>"
            ]
          },
          "metadata": {
            "tags": []
          }
        },
        {
          "output_type": "stream",
          "text": [
            "Saving NCAATourneyCompactResults.csv to NCAATourneyCompactResults.csv\n"
          ],
          "name": "stdout"
        }
      ]
    },
    {
      "cell_type": "code",
      "metadata": {
        "id": "9H1-w8mhNeeV",
        "colab_type": "code",
        "colab": {}
      },
      "source": [
        "import pandas as pd\n",
        "import numpy as np\n",
        "regular = pd.read_csv('RegularSeasonDetailedResults.csv')\n",
        "ncaa = pd.read_csv('NCAATourneyCompactResults.csv')"
      ],
      "execution_count": 0,
      "outputs": []
    },
    {
      "cell_type": "code",
      "metadata": {
        "id": "24Vhi7xCNwKB",
        "colab_type": "code",
        "colab": {}
      },
      "source": [
        "#find all unique teams\n",
        "regular_season = regular.groupby('Season')\n",
        "regular2017 = regular_season.get_group(2017)\n",
        "teams2017 = list(regular2017['WTeamID'].unique()) + list(regular2017['LTeamID'].unique())\n",
        "teams2017 = np.array(teams2017)\n",
        "teams2017 = np.unique(teams2017)\n",
        "teams2017 "
      ],
      "execution_count": 0,
      "outputs": []
    },
    {
      "cell_type": "code",
      "metadata": {
        "id": "aZedy2Z3VACK",
        "colab_type": "code",
        "colab": {}
      },
      "source": [
        "# create a df that has all teams ready for data import\n",
        "df2017 = pd.DataFrame(teams2017,columns=['Team'])\n",
        "z = np.zeros([len(teams2017),1])\n",
        "df2017['Points'] = z\n",
        "df2017['FGM'], df2017['FGA'] = z, z\n",
        "df2017['FGM3'],df2017['FGA3'], df2017['FTM'], df2017['FTA'], df2017['OR'], df2017['DR'], df2017['Ast'], df2017['TO'], df2017['Stl'], df2017['Blk'], df2017['PF'] = z,z,z,z,z,z,z,z,z,z,z\n",
        "df2017['Games'] = z\n",
        "df2017 = df2017.set_index('Team')\n",
        "df2017\n"
      ],
      "execution_count": 0,
      "outputs": []
    },
    {
      "cell_type": "code",
      "metadata": {
        "id": "AfFaA7z_cxh_",
        "colab_type": "code",
        "colab": {}
      },
      "source": [
        ""
      ],
      "execution_count": 0,
      "outputs": []
    },
    {
      "cell_type": "code",
      "metadata": {
        "id": "THFXQDzTYmqt",
        "colab_type": "code",
        "colab": {}
      },
      "source": [
        "# Find difference in each game\n",
        "r = regular2017.copy()\n",
        "r['Points'] = r.apply(lambda col: col.WScore - col.LScore, axis = 1)\n",
        "r['FGM'] = r.apply(lambda col: col.WFGM - col.LFGM, axis = 1)\n",
        "r['FGA'] = r.apply(lambda col: col.WFGA - col.LFGA, axis = 1)\n",
        "r['FGM3'] = r.apply(lambda col: col.WFGM3 - col.LFGM3, axis = 1)\n",
        "r['FGA3'] = r.apply(lambda col: col.WFGA3 - col.LFGA3, axis = 1)\n",
        "r['FTM'] = r.apply(lambda col: col.WFTM - col.LFTM, axis = 1)\n",
        "r['FTA'] = r.apply(lambda col: col.WFTA - col.LFTA, axis = 1)\n",
        "r['OR'] = r.apply(lambda col: col.WOR - col.LOR, axis = 1)\n",
        "r['DR'] = r.apply(lambda col: col.WDR - col.LDR, axis = 1)\n",
        "r['Ast'] = r.apply(lambda col: col.WAst - col.LAst, axis = 1)\n",
        "r['TO'] = r.apply(lambda col: col.WTO - col.LTO, axis = 1)\n",
        "r['Stl'] = r.apply(lambda col: col.WStl - col.LStl, axis = 1)\n",
        "r['Blk'] = r.apply(lambda col: col.WBlk - col.LBlk, axis = 1)\n",
        "r['PF'] = r.apply(lambda col: col.WPF - col.LPF, axis = 1)\n",
        "r"
      ],
      "execution_count": 0,
      "outputs": []
    },
    {
      "cell_type": "code",
      "metadata": {
        "id": "vD6OEQyVbQkt",
        "colab_type": "code",
        "colab": {}
      },
      "source": [
        "#move processed season data to empty df\n",
        "for i in list(r.index):\n",
        "  win = r.loc[i]['WTeamID']\n",
        "  df2017.loc[win]['Games'] += 1\n",
        "  lose = r.loc[i]['LTeamID']\n",
        "  df2017.loc[lose]['Games'] += 1\n",
        "  for j in list(set(df2017.columns) - set(['Games'])):\n",
        "      df2017.loc[win][j] += r.loc[i][j] \n",
        "      df2017.loc[lose][j] -= r.loc[i][j]"
      ],
      "execution_count": 0,
      "outputs": []
    },
    {
      "cell_type": "code",
      "metadata": {
        "id": "2fW9IGEETiqz",
        "colab_type": "code",
        "colab": {}
      },
      "source": [
        "#make all the data as average statistics\n",
        "df2017_avg = df2017.copy()\n",
        "df2017_avg['Points_Avg'] = df2017_avg.apply(lambda col: col.Points / col.Games, axis = 1)\n",
        "df2017_avg['FGM_Avg'] = df2017_avg.apply(lambda col: col.FGM / col.Games, axis = 1)\n",
        "df2017_avg['FGA_Avg'] = df2017_avg.apply(lambda col: col.FGA / col.Games, axis = 1)\n",
        "df2017_avg['FGM3_Avg'] = df2017_avg.apply(lambda col: col.FGM3 / col.Games, axis = 1)\n",
        "df2017_avg['FGA3_Avg'] = df2017_avg.apply(lambda col: col.FGA3 / col.Games, axis = 1)\n",
        "df2017_avg['FTM_Avg'] = df2017_avg.apply(lambda col: col.FTM / col.Games, axis = 1)\n",
        "df2017_avg['FTA_Avg'] = df2017_avg.apply(lambda col: col.FTA / col.Games, axis = 1)\n",
        "df2017_avg['OR_Avg'] = df2017_avg.apply(lambda col: col.OR / col.Games, axis = 1)\n",
        "df2017_avg['DR_Avg'] = df2017_avg.apply(lambda col: col.DR / col.Games, axis = 1)\n",
        "df2017_avg['Ast_Avg'] = df2017_avg.apply(lambda col: col.Ast / col.Games, axis = 1)\n",
        "df2017_avg['TO_Avg'] = df2017_avg.apply(lambda col: col.TO / col.Games, axis = 1)\n",
        "df2017_avg['Stl_Avg'] = df2017_avg.apply(lambda col: col.Stl / col.Games, axis = 1)\n",
        "df2017_avg['Blk_Avg'] = df2017_avg.apply(lambda col: col.Blk / col.Games, axis = 1)\n",
        "df2017_avg['PF_Avg'] = df2017_avg.apply(lambda col: col.PF / col.Games, axis = 1)\n",
        "df2017_avg = df2017_avg[['Points_Avg','FGM_Avg','FGA_Avg','FGM3_Avg','FGA3_Avg','FTM_Avg','FTA_Avg','OR_Avg','DR_Avg','Ast_Avg','TO_Avg','Stl_Avg','Blk_Avg','PF_Avg']]\n",
        "df2017_avg"
      ],
      "execution_count": 0,
      "outputs": []
    },
    {
      "cell_type": "code",
      "metadata": {
        "id": "9lvckC-97aR9",
        "colab_type": "code",
        "colab": {}
      },
      "source": [
        ""
      ],
      "execution_count": 0,
      "outputs": []
    },
    {
      "cell_type": "code",
      "metadata": {
        "id": "nNw2KAVbkpJU",
        "colab_type": "code",
        "outputId": "791cb6bc-42ea-47a1-ab47-e10f3b715c55",
        "colab": {
          "base_uri": "https://localhost:8080/",
          "height": 419
        }
      },
      "source": [
        "# Clean ncaa data for a target column\n",
        "# Instead of winning and losing teams, we let smaller id teams to be team 1 and whether team 1 wins to be result\n",
        "ncaa1 = ncaa.copy()\n",
        "ncaa1 = ncaa1[['WTeamID','LTeamID']]\n",
        "ncaa1['Team1'] = ncaa1.apply(lambda row: min(row.WTeamID, row.LTeamID), axis =1)\n",
        "ncaa1['Team2'] = ncaa1.apply(lambda row: max(row.WTeamID, row.LTeamID), axis =1)\n",
        "ncaa1['Results'] = ncaa1.apply(lambda row: int(row.WTeamID == row.Team1), axis = 1)\n",
        "ncaa1 = ncaa1[['Team1','Team2', 'Results']]\n"
      ],
      "execution_count": 0,
      "outputs": [
        {
          "output_type": "execute_result",
          "data": {
            "text/html": [
              "<div>\n",
              "<style scoped>\n",
              "    .dataframe tbody tr th:only-of-type {\n",
              "        vertical-align: middle;\n",
              "    }\n",
              "\n",
              "    .dataframe tbody tr th {\n",
              "        vertical-align: top;\n",
              "    }\n",
              "\n",
              "    .dataframe thead th {\n",
              "        text-align: right;\n",
              "    }\n",
              "</style>\n",
              "<table border=\"1\" class=\"dataframe\">\n",
              "  <thead>\n",
              "    <tr style=\"text-align: right;\">\n",
              "      <th></th>\n",
              "      <th>Team1</th>\n",
              "      <th>Team2</th>\n",
              "      <th>Results</th>\n",
              "    </tr>\n",
              "  </thead>\n",
              "  <tbody>\n",
              "    <tr>\n",
              "      <th>0</th>\n",
              "      <td>1116</td>\n",
              "      <td>1234</td>\n",
              "      <td>1</td>\n",
              "    </tr>\n",
              "    <tr>\n",
              "      <th>1</th>\n",
              "      <td>1120</td>\n",
              "      <td>1345</td>\n",
              "      <td>1</td>\n",
              "    </tr>\n",
              "    <tr>\n",
              "      <th>2</th>\n",
              "      <td>1207</td>\n",
              "      <td>1250</td>\n",
              "      <td>1</td>\n",
              "    </tr>\n",
              "    <tr>\n",
              "      <th>3</th>\n",
              "      <td>1229</td>\n",
              "      <td>1425</td>\n",
              "      <td>1</td>\n",
              "    </tr>\n",
              "    <tr>\n",
              "      <th>4</th>\n",
              "      <td>1242</td>\n",
              "      <td>1325</td>\n",
              "      <td>1</td>\n",
              "    </tr>\n",
              "    <tr>\n",
              "      <th>...</th>\n",
              "      <td>...</td>\n",
              "      <td>...</td>\n",
              "      <td>...</td>\n",
              "    </tr>\n",
              "    <tr>\n",
              "      <th>2179</th>\n",
              "      <td>1181</td>\n",
              "      <td>1242</td>\n",
              "      <td>0</td>\n",
              "    </tr>\n",
              "    <tr>\n",
              "      <th>2180</th>\n",
              "      <td>1403</td>\n",
              "      <td>1437</td>\n",
              "      <td>0</td>\n",
              "    </tr>\n",
              "    <tr>\n",
              "      <th>2181</th>\n",
              "      <td>1260</td>\n",
              "      <td>1276</td>\n",
              "      <td>0</td>\n",
              "    </tr>\n",
              "    <tr>\n",
              "      <th>2182</th>\n",
              "      <td>1242</td>\n",
              "      <td>1437</td>\n",
              "      <td>0</td>\n",
              "    </tr>\n",
              "    <tr>\n",
              "      <th>2183</th>\n",
              "      <td>1276</td>\n",
              "      <td>1437</td>\n",
              "      <td>0</td>\n",
              "    </tr>\n",
              "  </tbody>\n",
              "</table>\n",
              "<p>2184 rows × 3 columns</p>\n",
              "</div>"
            ],
            "text/plain": [
              "      Team1  Team2  Results\n",
              "0      1116   1234        1\n",
              "1      1120   1345        1\n",
              "2      1207   1250        1\n",
              "3      1229   1425        1\n",
              "4      1242   1325        1\n",
              "...     ...    ...      ...\n",
              "2179   1181   1242        0\n",
              "2180   1403   1437        0\n",
              "2181   1260   1276        0\n",
              "2182   1242   1437        0\n",
              "2183   1276   1437        0\n",
              "\n",
              "[2184 rows x 3 columns]"
            ]
          },
          "metadata": {
            "tags": []
          },
          "execution_count": 223
        }
      ]
    },
    {
      "cell_type": "code",
      "metadata": {
        "id": "aX5GBNSbohH1",
        "colab_type": "code",
        "outputId": "2bbb0067-54d9-4b4e-e86b-e6f641082c36",
        "colab": {
          "base_uri": "https://localhost:8080/",
          "height": 439
        }
      },
      "source": [
        "# Put data for both teams together in one table\n",
        "zz = np.zeros([len(ncaa1),28])\n",
        "zz = pd.DataFrame(zz)\n",
        "ncaa_train = pd.concat([ncaa1,zz],axis = 1)\n",
        "ncaa_train.columns = ['Team1', 'Team2','Results','Points_Avg1', 'FGM_Avg1', 'FGA_Avg1', 'FGM3_Avg1', 'FGA3_Avg1', 'FTM_Avg1',\n",
        "       'FTA_Avg1', 'OR_Avg1', 'DR_Avg1', 'Ast_Avg1', 'TO_Avg1', 'Stl_Avg1',\n",
        "       'Blk_Avg1', 'PF_Avg1','Points_Avg2', 'FGM_Avg2', 'FGA_Avg2', 'FGM3_Avg2', 'FGA3_Avg2', 'FTM_Avg2',\n",
        "       'FTA_Avg2', 'OR_Avg2', 'DR_Avg2', 'Ast_Avg2', 'TO_Avg2', 'Stl_Avg2',\n",
        "       'Blk_Avg2', 'PF_Avg2']\n",
        "ncaa_train"
      ],
      "execution_count": 0,
      "outputs": [
        {
          "output_type": "execute_result",
          "data": {
            "text/html": [
              "<div>\n",
              "<style scoped>\n",
              "    .dataframe tbody tr th:only-of-type {\n",
              "        vertical-align: middle;\n",
              "    }\n",
              "\n",
              "    .dataframe tbody tr th {\n",
              "        vertical-align: top;\n",
              "    }\n",
              "\n",
              "    .dataframe thead th {\n",
              "        text-align: right;\n",
              "    }\n",
              "</style>\n",
              "<table border=\"1\" class=\"dataframe\">\n",
              "  <thead>\n",
              "    <tr style=\"text-align: right;\">\n",
              "      <th></th>\n",
              "      <th>Team1</th>\n",
              "      <th>Team2</th>\n",
              "      <th>Results</th>\n",
              "      <th>Points_Avg1</th>\n",
              "      <th>FGM_Avg1</th>\n",
              "      <th>FGA_Avg1</th>\n",
              "      <th>FGM3_Avg1</th>\n",
              "      <th>FGA3_Avg1</th>\n",
              "      <th>FTM_Avg1</th>\n",
              "      <th>FTA_Avg1</th>\n",
              "      <th>OR_Avg1</th>\n",
              "      <th>DR_Avg1</th>\n",
              "      <th>Ast_Avg1</th>\n",
              "      <th>TO_Avg1</th>\n",
              "      <th>Stl_Avg1</th>\n",
              "      <th>Blk_Avg1</th>\n",
              "      <th>PF_Avg1</th>\n",
              "      <th>Points_Avg2</th>\n",
              "      <th>FGM_Avg2</th>\n",
              "      <th>FGA_Avg2</th>\n",
              "      <th>FGM3_Avg2</th>\n",
              "      <th>FGA3_Avg2</th>\n",
              "      <th>FTM_Avg2</th>\n",
              "      <th>FTA_Avg2</th>\n",
              "      <th>OR_Avg2</th>\n",
              "      <th>DR_Avg2</th>\n",
              "      <th>Ast_Avg2</th>\n",
              "      <th>TO_Avg2</th>\n",
              "      <th>Stl_Avg2</th>\n",
              "      <th>Blk_Avg2</th>\n",
              "      <th>PF_Avg2</th>\n",
              "    </tr>\n",
              "  </thead>\n",
              "  <tbody>\n",
              "    <tr>\n",
              "      <th>0</th>\n",
              "      <td>1116</td>\n",
              "      <td>1234</td>\n",
              "      <td>1</td>\n",
              "      <td>0.0</td>\n",
              "      <td>0.0</td>\n",
              "      <td>0.0</td>\n",
              "      <td>0.0</td>\n",
              "      <td>0.0</td>\n",
              "      <td>0.0</td>\n",
              "      <td>0.0</td>\n",
              "      <td>0.0</td>\n",
              "      <td>0.0</td>\n",
              "      <td>0.0</td>\n",
              "      <td>0.0</td>\n",
              "      <td>0.0</td>\n",
              "      <td>0.0</td>\n",
              "      <td>0.0</td>\n",
              "      <td>0.0</td>\n",
              "      <td>0.0</td>\n",
              "      <td>0.0</td>\n",
              "      <td>0.0</td>\n",
              "      <td>0.0</td>\n",
              "      <td>0.0</td>\n",
              "      <td>0.0</td>\n",
              "      <td>0.0</td>\n",
              "      <td>0.0</td>\n",
              "      <td>0.0</td>\n",
              "      <td>0.0</td>\n",
              "      <td>0.0</td>\n",
              "      <td>0.0</td>\n",
              "      <td>0.0</td>\n",
              "    </tr>\n",
              "    <tr>\n",
              "      <th>1</th>\n",
              "      <td>1120</td>\n",
              "      <td>1345</td>\n",
              "      <td>1</td>\n",
              "      <td>0.0</td>\n",
              "      <td>0.0</td>\n",
              "      <td>0.0</td>\n",
              "      <td>0.0</td>\n",
              "      <td>0.0</td>\n",
              "      <td>0.0</td>\n",
              "      <td>0.0</td>\n",
              "      <td>0.0</td>\n",
              "      <td>0.0</td>\n",
              "      <td>0.0</td>\n",
              "      <td>0.0</td>\n",
              "      <td>0.0</td>\n",
              "      <td>0.0</td>\n",
              "      <td>0.0</td>\n",
              "      <td>0.0</td>\n",
              "      <td>0.0</td>\n",
              "      <td>0.0</td>\n",
              "      <td>0.0</td>\n",
              "      <td>0.0</td>\n",
              "      <td>0.0</td>\n",
              "      <td>0.0</td>\n",
              "      <td>0.0</td>\n",
              "      <td>0.0</td>\n",
              "      <td>0.0</td>\n",
              "      <td>0.0</td>\n",
              "      <td>0.0</td>\n",
              "      <td>0.0</td>\n",
              "      <td>0.0</td>\n",
              "    </tr>\n",
              "    <tr>\n",
              "      <th>2</th>\n",
              "      <td>1207</td>\n",
              "      <td>1250</td>\n",
              "      <td>1</td>\n",
              "      <td>0.0</td>\n",
              "      <td>0.0</td>\n",
              "      <td>0.0</td>\n",
              "      <td>0.0</td>\n",
              "      <td>0.0</td>\n",
              "      <td>0.0</td>\n",
              "      <td>0.0</td>\n",
              "      <td>0.0</td>\n",
              "      <td>0.0</td>\n",
              "      <td>0.0</td>\n",
              "      <td>0.0</td>\n",
              "      <td>0.0</td>\n",
              "      <td>0.0</td>\n",
              "      <td>0.0</td>\n",
              "      <td>0.0</td>\n",
              "      <td>0.0</td>\n",
              "      <td>0.0</td>\n",
              "      <td>0.0</td>\n",
              "      <td>0.0</td>\n",
              "      <td>0.0</td>\n",
              "      <td>0.0</td>\n",
              "      <td>0.0</td>\n",
              "      <td>0.0</td>\n",
              "      <td>0.0</td>\n",
              "      <td>0.0</td>\n",
              "      <td>0.0</td>\n",
              "      <td>0.0</td>\n",
              "      <td>0.0</td>\n",
              "    </tr>\n",
              "    <tr>\n",
              "      <th>3</th>\n",
              "      <td>1229</td>\n",
              "      <td>1425</td>\n",
              "      <td>1</td>\n",
              "      <td>0.0</td>\n",
              "      <td>0.0</td>\n",
              "      <td>0.0</td>\n",
              "      <td>0.0</td>\n",
              "      <td>0.0</td>\n",
              "      <td>0.0</td>\n",
              "      <td>0.0</td>\n",
              "      <td>0.0</td>\n",
              "      <td>0.0</td>\n",
              "      <td>0.0</td>\n",
              "      <td>0.0</td>\n",
              "      <td>0.0</td>\n",
              "      <td>0.0</td>\n",
              "      <td>0.0</td>\n",
              "      <td>0.0</td>\n",
              "      <td>0.0</td>\n",
              "      <td>0.0</td>\n",
              "      <td>0.0</td>\n",
              "      <td>0.0</td>\n",
              "      <td>0.0</td>\n",
              "      <td>0.0</td>\n",
              "      <td>0.0</td>\n",
              "      <td>0.0</td>\n",
              "      <td>0.0</td>\n",
              "      <td>0.0</td>\n",
              "      <td>0.0</td>\n",
              "      <td>0.0</td>\n",
              "      <td>0.0</td>\n",
              "    </tr>\n",
              "    <tr>\n",
              "      <th>4</th>\n",
              "      <td>1242</td>\n",
              "      <td>1325</td>\n",
              "      <td>1</td>\n",
              "      <td>0.0</td>\n",
              "      <td>0.0</td>\n",
              "      <td>0.0</td>\n",
              "      <td>0.0</td>\n",
              "      <td>0.0</td>\n",
              "      <td>0.0</td>\n",
              "      <td>0.0</td>\n",
              "      <td>0.0</td>\n",
              "      <td>0.0</td>\n",
              "      <td>0.0</td>\n",
              "      <td>0.0</td>\n",
              "      <td>0.0</td>\n",
              "      <td>0.0</td>\n",
              "      <td>0.0</td>\n",
              "      <td>0.0</td>\n",
              "      <td>0.0</td>\n",
              "      <td>0.0</td>\n",
              "      <td>0.0</td>\n",
              "      <td>0.0</td>\n",
              "      <td>0.0</td>\n",
              "      <td>0.0</td>\n",
              "      <td>0.0</td>\n",
              "      <td>0.0</td>\n",
              "      <td>0.0</td>\n",
              "      <td>0.0</td>\n",
              "      <td>0.0</td>\n",
              "      <td>0.0</td>\n",
              "      <td>0.0</td>\n",
              "    </tr>\n",
              "    <tr>\n",
              "      <th>...</th>\n",
              "      <td>...</td>\n",
              "      <td>...</td>\n",
              "      <td>...</td>\n",
              "      <td>...</td>\n",
              "      <td>...</td>\n",
              "      <td>...</td>\n",
              "      <td>...</td>\n",
              "      <td>...</td>\n",
              "      <td>...</td>\n",
              "      <td>...</td>\n",
              "      <td>...</td>\n",
              "      <td>...</td>\n",
              "      <td>...</td>\n",
              "      <td>...</td>\n",
              "      <td>...</td>\n",
              "      <td>...</td>\n",
              "      <td>...</td>\n",
              "      <td>...</td>\n",
              "      <td>...</td>\n",
              "      <td>...</td>\n",
              "      <td>...</td>\n",
              "      <td>...</td>\n",
              "      <td>...</td>\n",
              "      <td>...</td>\n",
              "      <td>...</td>\n",
              "      <td>...</td>\n",
              "      <td>...</td>\n",
              "      <td>...</td>\n",
              "      <td>...</td>\n",
              "      <td>...</td>\n",
              "      <td>...</td>\n",
              "    </tr>\n",
              "    <tr>\n",
              "      <th>2179</th>\n",
              "      <td>1181</td>\n",
              "      <td>1242</td>\n",
              "      <td>0</td>\n",
              "      <td>0.0</td>\n",
              "      <td>0.0</td>\n",
              "      <td>0.0</td>\n",
              "      <td>0.0</td>\n",
              "      <td>0.0</td>\n",
              "      <td>0.0</td>\n",
              "      <td>0.0</td>\n",
              "      <td>0.0</td>\n",
              "      <td>0.0</td>\n",
              "      <td>0.0</td>\n",
              "      <td>0.0</td>\n",
              "      <td>0.0</td>\n",
              "      <td>0.0</td>\n",
              "      <td>0.0</td>\n",
              "      <td>0.0</td>\n",
              "      <td>0.0</td>\n",
              "      <td>0.0</td>\n",
              "      <td>0.0</td>\n",
              "      <td>0.0</td>\n",
              "      <td>0.0</td>\n",
              "      <td>0.0</td>\n",
              "      <td>0.0</td>\n",
              "      <td>0.0</td>\n",
              "      <td>0.0</td>\n",
              "      <td>0.0</td>\n",
              "      <td>0.0</td>\n",
              "      <td>0.0</td>\n",
              "      <td>0.0</td>\n",
              "    </tr>\n",
              "    <tr>\n",
              "      <th>2180</th>\n",
              "      <td>1403</td>\n",
              "      <td>1437</td>\n",
              "      <td>0</td>\n",
              "      <td>0.0</td>\n",
              "      <td>0.0</td>\n",
              "      <td>0.0</td>\n",
              "      <td>0.0</td>\n",
              "      <td>0.0</td>\n",
              "      <td>0.0</td>\n",
              "      <td>0.0</td>\n",
              "      <td>0.0</td>\n",
              "      <td>0.0</td>\n",
              "      <td>0.0</td>\n",
              "      <td>0.0</td>\n",
              "      <td>0.0</td>\n",
              "      <td>0.0</td>\n",
              "      <td>0.0</td>\n",
              "      <td>0.0</td>\n",
              "      <td>0.0</td>\n",
              "      <td>0.0</td>\n",
              "      <td>0.0</td>\n",
              "      <td>0.0</td>\n",
              "      <td>0.0</td>\n",
              "      <td>0.0</td>\n",
              "      <td>0.0</td>\n",
              "      <td>0.0</td>\n",
              "      <td>0.0</td>\n",
              "      <td>0.0</td>\n",
              "      <td>0.0</td>\n",
              "      <td>0.0</td>\n",
              "      <td>0.0</td>\n",
              "    </tr>\n",
              "    <tr>\n",
              "      <th>2181</th>\n",
              "      <td>1260</td>\n",
              "      <td>1276</td>\n",
              "      <td>0</td>\n",
              "      <td>0.0</td>\n",
              "      <td>0.0</td>\n",
              "      <td>0.0</td>\n",
              "      <td>0.0</td>\n",
              "      <td>0.0</td>\n",
              "      <td>0.0</td>\n",
              "      <td>0.0</td>\n",
              "      <td>0.0</td>\n",
              "      <td>0.0</td>\n",
              "      <td>0.0</td>\n",
              "      <td>0.0</td>\n",
              "      <td>0.0</td>\n",
              "      <td>0.0</td>\n",
              "      <td>0.0</td>\n",
              "      <td>0.0</td>\n",
              "      <td>0.0</td>\n",
              "      <td>0.0</td>\n",
              "      <td>0.0</td>\n",
              "      <td>0.0</td>\n",
              "      <td>0.0</td>\n",
              "      <td>0.0</td>\n",
              "      <td>0.0</td>\n",
              "      <td>0.0</td>\n",
              "      <td>0.0</td>\n",
              "      <td>0.0</td>\n",
              "      <td>0.0</td>\n",
              "      <td>0.0</td>\n",
              "      <td>0.0</td>\n",
              "    </tr>\n",
              "    <tr>\n",
              "      <th>2182</th>\n",
              "      <td>1242</td>\n",
              "      <td>1437</td>\n",
              "      <td>0</td>\n",
              "      <td>0.0</td>\n",
              "      <td>0.0</td>\n",
              "      <td>0.0</td>\n",
              "      <td>0.0</td>\n",
              "      <td>0.0</td>\n",
              "      <td>0.0</td>\n",
              "      <td>0.0</td>\n",
              "      <td>0.0</td>\n",
              "      <td>0.0</td>\n",
              "      <td>0.0</td>\n",
              "      <td>0.0</td>\n",
              "      <td>0.0</td>\n",
              "      <td>0.0</td>\n",
              "      <td>0.0</td>\n",
              "      <td>0.0</td>\n",
              "      <td>0.0</td>\n",
              "      <td>0.0</td>\n",
              "      <td>0.0</td>\n",
              "      <td>0.0</td>\n",
              "      <td>0.0</td>\n",
              "      <td>0.0</td>\n",
              "      <td>0.0</td>\n",
              "      <td>0.0</td>\n",
              "      <td>0.0</td>\n",
              "      <td>0.0</td>\n",
              "      <td>0.0</td>\n",
              "      <td>0.0</td>\n",
              "      <td>0.0</td>\n",
              "    </tr>\n",
              "    <tr>\n",
              "      <th>2183</th>\n",
              "      <td>1276</td>\n",
              "      <td>1437</td>\n",
              "      <td>0</td>\n",
              "      <td>0.0</td>\n",
              "      <td>0.0</td>\n",
              "      <td>0.0</td>\n",
              "      <td>0.0</td>\n",
              "      <td>0.0</td>\n",
              "      <td>0.0</td>\n",
              "      <td>0.0</td>\n",
              "      <td>0.0</td>\n",
              "      <td>0.0</td>\n",
              "      <td>0.0</td>\n",
              "      <td>0.0</td>\n",
              "      <td>0.0</td>\n",
              "      <td>0.0</td>\n",
              "      <td>0.0</td>\n",
              "      <td>0.0</td>\n",
              "      <td>0.0</td>\n",
              "      <td>0.0</td>\n",
              "      <td>0.0</td>\n",
              "      <td>0.0</td>\n",
              "      <td>0.0</td>\n",
              "      <td>0.0</td>\n",
              "      <td>0.0</td>\n",
              "      <td>0.0</td>\n",
              "      <td>0.0</td>\n",
              "      <td>0.0</td>\n",
              "      <td>0.0</td>\n",
              "      <td>0.0</td>\n",
              "      <td>0.0</td>\n",
              "    </tr>\n",
              "  </tbody>\n",
              "</table>\n",
              "<p>2184 rows × 31 columns</p>\n",
              "</div>"
            ],
            "text/plain": [
              "      Team1  Team2  Results  Points_Avg1  ...  TO_Avg2  Stl_Avg2  Blk_Avg2  PF_Avg2\n",
              "0      1116   1234        1          0.0  ...      0.0       0.0       0.0      0.0\n",
              "1      1120   1345        1          0.0  ...      0.0       0.0       0.0      0.0\n",
              "2      1207   1250        1          0.0  ...      0.0       0.0       0.0      0.0\n",
              "3      1229   1425        1          0.0  ...      0.0       0.0       0.0      0.0\n",
              "4      1242   1325        1          0.0  ...      0.0       0.0       0.0      0.0\n",
              "...     ...    ...      ...          ...  ...      ...       ...       ...      ...\n",
              "2179   1181   1242        0          0.0  ...      0.0       0.0       0.0      0.0\n",
              "2180   1403   1437        0          0.0  ...      0.0       0.0       0.0      0.0\n",
              "2181   1260   1276        0          0.0  ...      0.0       0.0       0.0      0.0\n",
              "2182   1242   1437        0          0.0  ...      0.0       0.0       0.0      0.0\n",
              "2183   1276   1437        0          0.0  ...      0.0       0.0       0.0      0.0\n",
              "\n",
              "[2184 rows x 31 columns]"
            ]
          },
          "metadata": {
            "tags": []
          },
          "execution_count": 262
        }
      ]
    },
    {
      "cell_type": "code",
      "metadata": {
        "id": "0tzgwowdpS-N",
        "colab_type": "code",
        "colab": {}
      },
      "source": [
        "#Add data to game matchup table from data table\n",
        "for i in list(ncaa_train.index): \n",
        "  T1 = ncaa_train.loc[i]['Team1'] \n",
        "  T2 = ncaa_train.loc[i]['Team2'] \n",
        "  ncaa_train.loc[i,'Points_Avg1'] = df2017_avg.loc[T1,'Points_Avg']\n",
        "  ncaa_train.loc[i,'Points_Avg2'] = df2017_avg.loc[T2,'Points_Avg']\n",
        "  ncaa_train.loc[i,'FGM_Avg1'] = df2017_avg.loc[T1,'FGM_Avg']\n",
        "  ncaa_train.loc[i,'FGM_Avg2'] = df2017_avg.loc[T2,'FGM_Avg']\n",
        "  ncaa_train.loc[i,'FGA_Avg1'] = df2017_avg.loc[T1,'FGA_Avg']\n",
        "  ncaa_train.loc[i,'FGA_Avg2'] = df2017_avg.loc[T2,'FGA_Avg']\n",
        "  ncaa_train.loc[i,'FGM3_Avg1'] = df2017_avg.loc[T1,'FGM3_Avg']\n",
        "  ncaa_train.loc[i,'FGM3_Avg2'] = df2017_avg.loc[T2,'FGM3_Avg']\n",
        "  ncaa_train.loc[i,'FGA3_Avg1'] = df2017_avg.loc[T1,'FGA3_Avg']\n",
        "  ncaa_train.loc[i,'FGA3_Avg2'] = df2017_avg.loc[T2,'FGA3_Avg']\n",
        "  ncaa_train.loc[i,'FTM_Avg1'] = df2017_avg.loc[T1,'FTM_Avg']\n",
        "  ncaa_train.loc[i,'FTM_Avg2'] = df2017_avg.loc[T2,'FTM_Avg']\n",
        "  ncaa_train.loc[i,'FTA_Avg1'] = df2017_avg.loc[T1,'FTA_Avg']\n",
        "  ncaa_train.loc[i,'FTA_Avg2'] = df2017_avg.loc[T2,'FTA_Avg']\n",
        "  ncaa_train.loc[i,'OR_Avg1'] = df2017_avg.loc[T1,'OR_Avg']\n",
        "  ncaa_train.loc[i,'OR_Avg2'] = df2017_avg.loc[T2,'OR_Avg']\n",
        "  ncaa_train.loc[i,'DR_Avg1'] = df2017_avg.loc[T1,'DR_Avg']\n",
        "  ncaa_train.loc[i,'DR_Avg2'] = df2017_avg.loc[T2,'DR_Avg']\n",
        "  ncaa_train.loc[i,'Ast_Avg1'] = df2017_avg.loc[T1,'Ast_Avg']\n",
        "  ncaa_train.loc[i,'Ast_Avg2'] = df2017_avg.loc[T2,'Ast_Avg']\n",
        "  ncaa_train.loc[i,'TO_Avg1'] = df2017_avg.loc[T1,'TO_Avg']\n",
        "  ncaa_train.loc[i,'TO_Avg2'] = df2017_avg.loc[T2,'TO_Avg']\n",
        "  ncaa_train.loc[i,'Stl_Avg1'] = df2017_avg.loc[T1,'Stl_Avg']\n",
        "  ncaa_train.loc[i,'Stl_Avg2'] = df2017_avg.loc[T2,'Stl_Avg']\n",
        "  ncaa_train.loc[i,'Blk_Avg1'] = df2017_avg.loc[T1,'Blk_Avg']\n",
        "  ncaa_train.loc[i,'Blk_Avg2'] = df2017_avg.loc[T2,'Blk_Avg']\n",
        "  ncaa_train.loc[i,'PF_Avg1'] = df2017_avg.loc[T1,'PF_Avg']\n",
        "  ncaa_train.loc[i,'PF_Avg2'] = df2017_avg.loc[T2,'PF_Avg']"
      ],
      "execution_count": 0,
      "outputs": []
    },
    {
      "cell_type": "code",
      "metadata": {
        "id": "B6ZAwb7q5Iy3",
        "colab_type": "code",
        "colab": {}
      },
      "source": [
        "#Get two teams' Stats difference \n",
        "ncaa_train['Points_Avg_Diff'] = ncaa_train.apply(lambda col: col.Points_Avg1 - col.Points_Avg2, axis = 1)\n",
        "ncaa_train['FGM_Avg_Diff'] = ncaa_train.apply(lambda col: col.FGM_Avg1 - col.FGM_Avg2, axis = 1)\n",
        "ncaa_train['FGA_Avg_Diff'] = ncaa_train.apply(lambda col: col.FGA_Avg1 - col.FGA_Avg2, axis = 1)\n",
        "ncaa_train['FGM3_Avg_Diff'] = ncaa_train.apply(lambda col: col.FGM3_Avg1 - col.FGM3_Avg2, axis = 1)\n",
        "ncaa_train['FGA3_Avg_Diff'] = ncaa_train.apply(lambda col: col.FGA3_Avg1 - col.FGA3_Avg2, axis = 1)\n",
        "ncaa_train['FTM_Avg_Diff'] = ncaa_train.apply(lambda col: col.FTM_Avg1 - col.FTM_Avg2, axis = 1)\n",
        "ncaa_train['FTA_Avg_Diff'] = ncaa_train.apply(lambda col: col.FTA_Avg1 - col.FTA_Avg2, axis = 1)\n",
        "ncaa_train['OR_Avg_Diff'] = ncaa_train.apply(lambda col: col.OR_Avg1 - col.OR_Avg2, axis = 1)\n",
        "ncaa_train['DR_Avg_Diff'] = ncaa_train.apply(lambda col: col.DR_Avg1 - col.DR_Avg2, axis = 1)\n",
        "ncaa_train['Ast_Avg_Diff'] = ncaa_train.apply(lambda col: col.Ast_Avg1 - col.Ast_Avg2, axis = 1)\n",
        "ncaa_train['TO_Avg_Diff'] = ncaa_train.apply(lambda col: col.TO_Avg1 - col.TO_Avg2, axis = 1)\n",
        "ncaa_train['Stl_Avg_Diff'] = ncaa_train.apply(lambda col: col.Stl_Avg1 - col.Stl_Avg2, axis = 1)\n",
        "ncaa_train['Blk_Avg_Diff'] = ncaa_train.apply(lambda col: col.Blk_Avg1 - col.Blk_Avg2, axis = 1)\n",
        "ncaa_train['PF_Avg_Diff'] = ncaa_train.apply(lambda col: col.PF_Avg1 - col.PF_Avg2, axis = 1)"
      ],
      "execution_count": 0,
      "outputs": []
    },
    {
      "cell_type": "code",
      "metadata": {
        "id": "KNqOXXGU5R6u",
        "colab_type": "code",
        "colab": {}
      },
      "source": [
        "# Do the same thing for 2017 to get 2018 testing data\n",
        "regular2018 = regular_season.get_group(2018)\n",
        "teams2018 = list(regular2018['WTeamID'].unique()) + list(regular2018['LTeamID'].unique())\n",
        "teams2018 = np.array(teams2018)\n",
        "teams2018 = np.unique(teams2018)\n",
        "teams2018 #find all unique teams\n",
        "\n",
        "df2018 = pd.DataFrame(teams2018,columns=['Team'])\n",
        "z = np.zeros([len(teams2018),1])\n",
        "df2018['Points'] = z\n",
        "df2018['FGM'], df2018['FGA'] = z, z\n",
        "df2018['FGM3'],df2018['FGA3'], df2018['FTM'], df2018['FTA'], df2018['OR'], df2018['DR'], df2018['Ast'], df2018['TO'], df2018['Stl'], df2018['Blk'], df2018['PF'] = z,z,z,z,z,z,z,z,z,z,z\n",
        "df2018['Games'] = z\n",
        "df2018 = df2018.set_index('Team')\n",
        "\n",
        "r1 = regular2018.copy()\n",
        "r1['Points'] = r1.apply(lambda col: col.WScore - col.LScore, axis = 1)\n",
        "r1['FGM'] = r1.apply(lambda col: col.WFGM - col.LFGM, axis = 1)\n",
        "r1['FGA'] = r1.apply(lambda col: col.WFGA - col.LFGA, axis = 1)\n",
        "r1['FGM3'] = r1.apply(lambda col: col.WFGM3 - col.LFGM3, axis = 1)\n",
        "r1['FGA3'] = r1.apply(lambda col: col.WFGA3 - col.LFGA3, axis = 1)\n",
        "r1['FTM'] = r1.apply(lambda col: col.WFTM - col.LFTM, axis = 1)\n",
        "r1['FTA'] = r1.apply(lambda col: col.WFTA - col.LFTA, axis = 1)\n",
        "r1['OR'] = r1.apply(lambda col: col.WOR - col.LOR, axis = 1)\n",
        "r1['DR'] = r1.apply(lambda col: col.WDR - col.LDR, axis = 1)\n",
        "r1['Ast'] = r1.apply(lambda col: col.WAst - col.LAst, axis = 1)\n",
        "r1['TO'] = r1.apply(lambda col: col.WTO - col.LTO, axis = 1)\n",
        "r1['Stl'] = r1.apply(lambda col: col.WStl - col.LStl, axis = 1)\n",
        "r1['Blk'] = r1.apply(lambda col: col.WBlk - col.LBlk, axis = 1)\n",
        "r1['PF'] = r1.apply(lambda col: col.WPF - col.LPF, axis = 1)\n",
        "\n",
        "for i in list(r1.index):\n",
        "  win = r1.loc[i]['WTeamID']\n",
        "  df2018.loc[win]['Games'] += 1\n",
        "  lose = r1.loc[i]['LTeamID']\n",
        "  df2018.loc[lose]['Games'] += 1\n",
        "  for j in list(set(df2018.columns) - set(['Games'])):\n",
        "      df2018.loc[win][j] += r1.loc[i][j] \n",
        "      df2018.loc[lose][j] -= r1.loc[i][j]\n",
        "\n",
        "df2018_avg = df2018.copy()\n",
        "df2018_avg['Points_Avg'] = df2018_avg.apply(lambda col: col.Points / col.Games, axis = 1)\n",
        "df2018_avg['FGM_Avg'] = df2018_avg.apply(lambda col: col.FGM / col.Games, axis = 1)\n",
        "df2018_avg['FGA_Avg'] = df2018_avg.apply(lambda col: col.FGA / col.Games, axis = 1)\n",
        "df2018_avg['FGM3_Avg'] = df2018_avg.apply(lambda col: col.FGM3 / col.Games, axis = 1)\n",
        "df2018_avg['FGA3_Avg'] = df2018_avg.apply(lambda col: col.FGA3 / col.Games, axis = 1)\n",
        "df2018_avg['FTM_Avg'] = df2018_avg.apply(lambda col: col.FTM / col.Games, axis = 1)\n",
        "df2018_avg['FTA_Avg'] = df2018_avg.apply(lambda col: col.FTA / col.Games, axis = 1)\n",
        "df2018_avg['OR_Avg'] = df2018_avg.apply(lambda col: col.OR / col.Games, axis = 1)\n",
        "df2018_avg['DR_Avg'] = df2018_avg.apply(lambda col: col.DR / col.Games, axis = 1)\n",
        "df2018_avg['Ast_Avg'] = df2018_avg.apply(lambda col: col.Ast / col.Games, axis = 1)\n",
        "df2018_avg['TO_Avg'] = df2018_avg.apply(lambda col: col.TO / col.Games, axis = 1)\n",
        "df2018_avg['Stl_Avg'] = df2018_avg.apply(lambda col: col.Stl / col.Games, axis = 1)\n",
        "df2018_avg['Blk_Avg'] = df2018_avg.apply(lambda col: col.Blk / col.Games, axis = 1)\n",
        "df2018_avg['PF_Avg'] = df2018_avg.apply(lambda col: col.PF / col.Games, axis = 1)\n",
        "df2018_avg = df2018_avg[['Points_Avg','FGM_Avg','FGA_Avg','FGM3_Avg','FGA3_Avg','FTM_Avg','FTA_Avg','OR_Avg','DR_Avg','Ast_Avg','TO_Avg','Stl_Avg','Blk_Avg','PF_Avg']]\n",
        "\n",
        "ncaa2 = ncaa.copy()\n",
        "ncaa2 = ncaa2[['WTeamID','LTeamID']]\n",
        "ncaa2['Team1'] = ncaa2.apply(lambda row: min(row.WTeamID, row.LTeamID), axis =1)\n",
        "ncaa2['Team2'] = ncaa2.apply(lambda row: max(row.WTeamID, row.LTeamID), axis =1)\n",
        "ncaa2['Results'] = ncaa2.apply(lambda row: int(row.WTeamID == row.Team1), axis = 1)\n",
        "ncaa2 = ncaa2[['Team1','Team2', 'Results']]\n",
        "\n",
        "zz1 = np.zeros([len(ncaa1),28])\n",
        "zz1 = pd.DataFrame(zz)\n",
        "ncaa_test = pd.concat([ncaa1,zz],axis = 1)\n",
        "ncaa_test.columns = ['Team1', 'Team2','Results','Points_Avg1', 'FGM_Avg1', 'FGA_Avg1', 'FGM3_Avg1', 'FGA3_Avg1', 'FTM_Avg1',\n",
        "       'FTA_Avg1', 'OR_Avg1', 'DR_Avg1', 'Ast_Avg1', 'TO_Avg1', 'Stl_Avg1',\n",
        "       'Blk_Avg1', 'PF_Avg1','Points_Avg2', 'FGM_Avg2', 'FGA_Avg2', 'FGM3_Avg2', 'FGA3_Avg2', 'FTM_Avg2',\n",
        "       'FTA_Avg2', 'OR_Avg2', 'DR_Avg2', 'Ast_Avg2', 'TO_Avg2', 'Stl_Avg2',\n",
        "       'Blk_Avg2', 'PF_Avg2']\n"
      ],
      "execution_count": 0,
      "outputs": []
    },
    {
      "cell_type": "code",
      "metadata": {
        "id": "uRdxsDig8Q5F",
        "colab_type": "code",
        "colab": {}
      },
      "source": [
        "#Same thing applied on test data\n",
        "for i in list(ncaa_test.index): \n",
        "  T1 = ncaa_test.loc[i]['Team1'] \n",
        "  T2 = ncaa_test.loc[i]['Team2'] \n",
        "  ncaa_test.loc[i,'Points_Avg1'] = df2018_avg.loc[T1,'Points_Avg']\n",
        "  ncaa_test.loc[i,'Points_Avg2'] = df2018_avg.loc[T2,'Points_Avg']\n",
        "  ncaa_test.loc[i,'FGM_Avg1'] = df2018_avg.loc[T1,'FGM_Avg']\n",
        "  ncaa_test.loc[i,'FGM_Avg2'] = df2018_avg.loc[T2,'FGM_Avg']\n",
        "  ncaa_test.loc[i,'FGA_Avg1'] = df2018_avg.loc[T1,'FGA_Avg']\n",
        "  ncaa_test.loc[i,'FGA_Avg2'] = df2018_avg.loc[T2,'FGA_Avg']\n",
        "  ncaa_test.loc[i,'FGM3_Avg1'] = df2018_avg.loc[T1,'FGM3_Avg']\n",
        "  ncaa_test.loc[i,'FGM3_Avg2'] = df2018_avg.loc[T2,'FGM3_Avg']\n",
        "  ncaa_test.loc[i,'FGA3_Avg1'] = df2018_avg.loc[T1,'FGA3_Avg']\n",
        "  ncaa_test.loc[i,'FGA3_Avg2'] = df2018_avg.loc[T2,'FGA3_Avg']\n",
        "  ncaa_test.loc[i,'FTM_Avg1'] = df2018_avg.loc[T1,'FTM_Avg']\n",
        "  ncaa_test.loc[i,'FTM_Avg2'] = df2018_avg.loc[T2,'FTM_Avg']\n",
        "  ncaa_test.loc[i,'FTA_Avg1'] = df2018_avg.loc[T1,'FTA_Avg']\n",
        "  ncaa_test.loc[i,'FTA_Avg2'] = df2018_avg.loc[T2,'FTA_Avg']\n",
        "  ncaa_test.loc[i,'OR_Avg1'] = df2018_avg.loc[T1,'OR_Avg']\n",
        "  ncaa_test.loc[i,'OR_Avg2'] = df2018_avg.loc[T2,'OR_Avg']\n",
        "  ncaa_test.loc[i,'DR_Avg1'] = df2018_avg.loc[T1,'DR_Avg']\n",
        "  ncaa_test.loc[i,'DR_Avg2'] = df2018_avg.loc[T2,'DR_Avg']\n",
        "  ncaa_test.loc[i,'Ast_Avg1'] = df2018_avg.loc[T1,'Ast_Avg']\n",
        "  ncaa_test.loc[i,'Ast_Avg2'] = df2018_avg.loc[T2,'Ast_Avg']\n",
        "  ncaa_test.loc[i,'TO_Avg1'] = df2018_avg.loc[T1,'TO_Avg']\n",
        "  ncaa_test.loc[i,'TO_Avg2'] = df2018_avg.loc[T2,'TO_Avg']\n",
        "  ncaa_test.loc[i,'Stl_Avg1'] = df2018_avg.loc[T1,'Stl_Avg']\n",
        "  ncaa_test.loc[i,'Stl_Avg2'] = df2018_avg.loc[T2,'Stl_Avg']\n",
        "  ncaa_test.loc[i,'Blk_Avg1'] = df2018_avg.loc[T1,'Blk_Avg']\n",
        "  ncaa_test.loc[i,'Blk_Avg2'] = df2018_avg.loc[T2,'Blk_Avg']\n",
        "  ncaa_test.loc[i,'PF_Avg1'] = df2018_avg.loc[T1,'PF_Avg']\n",
        "  ncaa_test.loc[i,'PF_Avg2'] = df2018_avg.loc[T2,'PF_Avg']"
      ],
      "execution_count": 0,
      "outputs": []
    },
    {
      "cell_type": "code",
      "metadata": {
        "id": "StYj8-IK8iAU",
        "colab_type": "code",
        "colab": {}
      },
      "source": [
        "ncaa_test['Points_Avg_Diff'] = ncaa_test.apply(lambda col: col.Points_Avg1 - col.Points_Avg2, axis = 1)\n",
        "ncaa_test['FGM_Avg_Diff'] = ncaa_test.apply(lambda col: col.FGM_Avg1 - col.FGM_Avg2, axis = 1)\n",
        "ncaa_test['FGA_Avg_Diff'] = ncaa_test.apply(lambda col: col.FGA_Avg1 - col.FGA_Avg2, axis = 1)\n",
        "ncaa_test['FGM3_Avg_Diff'] = ncaa_test.apply(lambda col: col.FGM3_Avg1 - col.FGM3_Avg2, axis = 1)\n",
        "ncaa_test['FGA3_Avg_Diff'] = ncaa_test.apply(lambda col: col.FGA3_Avg1 - col.FGA3_Avg2, axis = 1)\n",
        "ncaa_test['FTM_Avg_Diff'] = ncaa_test.apply(lambda col: col.FTM_Avg1 - col.FTM_Avg2, axis = 1)\n",
        "ncaa_test['FTA_Avg_Diff'] = ncaa_test.apply(lambda col: col.FTA_Avg1 - col.FTA_Avg2, axis = 1)\n",
        "ncaa_test['OR_Avg_Diff'] = ncaa_test.apply(lambda col: col.OR_Avg1 - col.OR_Avg2, axis = 1)\n",
        "ncaa_test['DR_Avg_Diff'] = ncaa_test.apply(lambda col: col.DR_Avg1 - col.DR_Avg2, axis = 1)\n",
        "ncaa_test['Ast_Avg_Diff'] = ncaa_test.apply(lambda col: col.Ast_Avg1 - col.Ast_Avg2, axis = 1)\n",
        "ncaa_test['TO_Avg_Diff'] = ncaa_test.apply(lambda col: col.TO_Avg1 - col.TO_Avg2, axis = 1)\n",
        "ncaa_test['Stl_Avg_Diff'] = ncaa_test.apply(lambda col: col.Stl_Avg1 - col.Stl_Avg2, axis = 1)\n",
        "ncaa_test['Blk_Avg_Diff'] = ncaa_test.apply(lambda col: col.Blk_Avg1 - col.Blk_Avg2, axis = 1)\n",
        "ncaa_test['PF_Avg_Diff'] = ncaa_test.apply(lambda col: col.PF_Avg1 - col.PF_Avg2, axis = 1)"
      ],
      "execution_count": 0,
      "outputs": []
    },
    {
      "cell_type": "code",
      "metadata": {
        "id": "RyepxuAW9dhe",
        "colab_type": "code",
        "outputId": "75a766d0-9b96-4427-a776-dc9f056210b7",
        "colab": {
          "base_uri": "https://localhost:8080/",
          "height": 421
        }
      },
      "source": [
        "X_train = ncaa_train[['Points_Avg1', 'FGM_Avg1', 'FGA_Avg1', 'FGM3_Avg1', 'FGA3_Avg1', 'FTM_Avg1',\n",
        "       'FTA_Avg1', 'OR_Avg1', 'DR_Avg1', 'Ast_Avg1', 'TO_Avg1', 'Stl_Avg1',\n",
        "       'Blk_Avg1', 'PF_Avg1','Points_Avg2', 'FGM_Avg2', 'FGA_Avg2', 'FGM3_Avg2', 'FGA3_Avg2', 'FTM_Avg2',\n",
        "       'FTA_Avg2', 'OR_Avg2', 'DR_Avg2', 'Ast_Avg2', 'TO_Avg2', 'Stl_Avg2',\n",
        "       'Blk_Avg2', 'PF_Avg2']]\n",
        "y_train = ncaa_train[['Results']]\n",
        "from sklearn.ensemble import RandomForestRegressor\n",
        "forest = RandomForestRegressor(random_state=99)\n",
        "forest.fit(X_train, y_train) \n",
        "importances = forest.feature_importances_\n",
        "importances\n",
        "\n",
        "Attribute_importance = pd.DataFrame(importances,columns = ['Importance'], index = X_train.columns)\n",
        "Attribute_importance.plot.bar()"
      ],
      "execution_count": 0,
      "outputs": [
        {
          "output_type": "stream",
          "text": [
            "/usr/local/lib/python3.6/dist-packages/sklearn/ensemble/forest.py:245: FutureWarning: The default value of n_estimators will change from 10 in version 0.20 to 100 in 0.22.\n",
            "  \"10 in version 0.20 to 100 in 0.22.\", FutureWarning)\n",
            "/usr/local/lib/python3.6/dist-packages/ipykernel_launcher.py:9: DataConversionWarning: A column-vector y was passed when a 1d array was expected. Please change the shape of y to (n_samples,), for example using ravel().\n",
            "  if __name__ == '__main__':\n"
          ],
          "name": "stderr"
        },
        {
          "output_type": "execute_result",
          "data": {
            "text/plain": [
              "<matplotlib.axes._subplots.AxesSubplot at 0x7fd56492dbe0>"
            ]
          },
          "metadata": {
            "tags": []
          },
          "execution_count": 409
        },
        {
          "output_type": "display_data",
          "data": {
            "image/png": "[encoded data removed]",
            "text/plain": [
              "<Figure size 432x288 with 1 Axes>"
            ]
          },
          "metadata": {
            "tags": []
          }
        }
      ]
    },
    {
      "cell_type": "code",
      "metadata": {
        "id": "eOgoF9Xn-WRy",
        "colab_type": "code",
        "outputId": "00d7d375-5445-4f8c-882f-2eefdc520390",
        "colab": {
          "base_uri": "https://localhost:8080/",
          "height": 407
        }
      },
      "source": [
        "X_train_diff = ncaa_train[['Points_Avg_Diff', 'FGM_Avg_Diff',\n",
        "       'FGA_Avg_Diff', 'FGM3_Avg_Diff', 'FGA3_Avg_Diff', 'FTM_Avg_Diff',\n",
        "       'FTA_Avg_Diff', 'OR_Avg_Diff', 'DR_Avg_Diff', 'Ast_Avg_Diff',\n",
        "       'TO_Avg_Diff', 'Stl_Avg_Diff', 'Blk_Avg_Diff', 'PF_Avg_Diff']]\n",
        "forest.fit(X_train_diff, y_train) \n",
        "importances_diff = forest.feature_importances_\n",
        "Attribute_importance_diff = pd.DataFrame(importances_diff,columns = ['Importance'], index = X_train_diff.columns)\n",
        "Attribute_importance_diff.plot.bar()"
      ],
      "execution_count": 0,
      "outputs": [
        {
          "output_type": "stream",
          "text": [
            "/usr/local/lib/python3.6/dist-packages/ipykernel_launcher.py:6: DataConversionWarning: A column-vector y was passed when a 1d array was expected. Please change the shape of y to (n_samples,), for example using ravel().\n",
            "  \n"
          ],
          "name": "stderr"
        },
        {
          "output_type": "execute_result",
          "data": {
            "text/plain": [
              "<matplotlib.axes._subplots.AxesSubplot at 0x7fd564883e10>"
            ]
          },
          "metadata": {
            "tags": []
          },
          "execution_count": 414
        },
        {
          "output_type": "display_data",
          "data": {
            "image/png": "[encoded data removed]",
            "text/plain": [
              "<Figure size 432x288 with 1 Axes>"
            ]
          },
          "metadata": {
            "tags": []
          }
        }
      ]
    },
    {
      "cell_type": "code",
      "metadata": {
        "id": "f1H2RcNyELc2",
        "colab_type": "code",
        "colab": {}
      },
      "source": [
        "X_test  = ncaa_test[['Points_Avg1', 'FGM_Avg1', 'FGA_Avg1', 'FGM3_Avg1', 'FGA3_Avg1', 'FTM_Avg1',\n",
        "       'FTA_Avg1', 'OR_Avg1', 'DR_Avg1', 'Ast_Avg1', 'TO_Avg1', 'Stl_Avg1',\n",
        "       'Blk_Avg1', 'PF_Avg1','Points_Avg2', 'FGM_Avg2', 'FGA_Avg2', 'FGM3_Avg2', 'FGA3_Avg2', 'FTM_Avg2',\n",
        "       'FTA_Avg2', 'OR_Avg2', 'DR_Avg2', 'Ast_Avg2', 'TO_Avg2', 'Stl_Avg2',\n",
        "       'Blk_Avg2', 'PF_Avg2']]\n",
        "y_test = ncaa_test[['Results']]\n",
        "X_test_diff = ncaa_test[['Points_Avg_Diff', 'FGM_Avg_Diff',\n",
        "       'FGA_Avg_Diff', 'FGM3_Avg_Diff', 'FGA3_Avg_Diff', 'FTM_Avg_Diff',\n",
        "       'FTA_Avg_Diff', 'OR_Avg_Diff', 'DR_Avg_Diff', 'Ast_Avg_Diff',\n",
        "       'TO_Avg_Diff', 'Stl_Avg_Diff', 'Blk_Avg_Diff', 'PF_Avg_Diff']]"
      ],
      "execution_count": 0,
      "outputs": []
    },
    {
      "cell_type": "code",
      "metadata": {
        "id": "o5DbDda3ECUw",
        "colab_type": "code",
        "outputId": "60e3e9ba-c7db-48da-fd56-211570a4ce13",
        "colab": {
          "base_uri": "https://localhost:8080/",
          "height": 88
        }
      },
      "source": [
        "#KNN with all diff attributes: \n",
        "#Accuracy 0.5554 @k = 5 \n",
        "from sklearn.neighbors import KNeighborsClassifier\n",
        "from sklearn import metrics\n",
        "classifier = KNeighborsClassifier(n_neighbors= 20 )\n",
        "classifier.fit(X_train_diff, y_train)\n",
        "y_pred = classifier.predict(X_test_diff)\n",
        "metrics.accuracy_score(y_test, y_pred) "
      ],
      "execution_count": 0,
      "outputs": [
        {
          "output_type": "stream",
          "text": [
            "/usr/local/lib/python3.6/dist-packages/ipykernel_launcher.py:4: DataConversionWarning: A column-vector y was passed when a 1d array was expected. Please change the shape of y to (n_samples, ), for example using ravel().\n",
            "  after removing the cwd from sys.path.\n"
          ],
          "name": "stderr"
        },
        {
          "output_type": "execute_result",
          "data": {
            "text/plain": [
              "0.5837912087912088"
            ]
          },
          "metadata": {
            "tags": []
          },
          "execution_count": 453
        }
      ]
    },
    {
      "cell_type": "code",
      "metadata": {
        "id": "AyRha6h_HvwQ",
        "colab_type": "code",
        "outputId": "1de5ec11-90a2-4cbb-b842-7f91adae98ba",
        "colab": {
          "base_uri": "https://localhost:8080/",
          "height": 88
        }
      },
      "source": [
        "#KNN with importance higher than 0.08 \n",
        "#Accuracy 0.5778 @ k = 5\n",
        "X_train_diff1 = ncaa_train[['Points_Avg_Diff','Blk_Avg_Diff','FGM_Avg_Diff']]\n",
        "X_test_diff1 = ncaa_test[['Points_Avg_Diff','Blk_Avg_Diff','FGM_Avg_Diff']]\n",
        "classifier.fit(X_train_diff1, y_train)\n",
        "y_pred1 = classifier.predict(X_test_diff1)\n",
        "metrics.accuracy_score(y_test, y_pred1)"
      ],
      "execution_count": 0,
      "outputs": [
        {
          "output_type": "stream",
          "text": [
            "/usr/local/lib/python3.6/dist-packages/ipykernel_launcher.py:3: DataConversionWarning: A column-vector y was passed when a 1d array was expected. Please change the shape of y to (n_samples, ), for example using ravel().\n",
            "  This is separate from the ipykernel package so we can avoid doing imports until\n"
          ],
          "name": "stderr"
        },
        {
          "output_type": "execute_result",
          "data": {
            "text/plain": [
              "0.5993589743589743"
            ]
          },
          "metadata": {
            "tags": []
          },
          "execution_count": 454
        }
      ]
    },
    {
      "cell_type": "code",
      "metadata": {
        "id": "ztmJdsB0EuJB",
        "colab_type": "code",
        "outputId": "e0a0e82c-aab6-4864-9a5b-06628c8b5c25",
        "colab": {
          "base_uri": "https://localhost:8080/",
          "height": 88
        }
      },
      "source": [
        "#RandomForest \n",
        "#Accuracy = 0.5833 @ n = 100\n",
        "from sklearn.ensemble import RandomForestClassifier\n",
        "rf = RandomForestClassifier(n_estimators = 100)\n",
        "rf.fit(X_train_diff,y_train)\n",
        "y_pred_rf = rf.predict(X_test_diff)\n",
        "metrics.accuracy_score(y_test, y_pred_rf)"
      ],
      "execution_count": 0,
      "outputs": [
        {
          "output_type": "stream",
          "text": [
            "/usr/local/lib/python3.6/dist-packages/ipykernel_launcher.py:3: DataConversionWarning: A column-vector y was passed when a 1d array was expected. Please change the shape of y to (n_samples,), for example using ravel().\n",
            "  This is separate from the ipykernel package so we can avoid doing imports until\n"
          ],
          "name": "stderr"
        },
        {
          "output_type": "execute_result",
          "data": {
            "text/plain": [
              "0.5833333333333334"
            ]
          },
          "metadata": {
            "tags": []
          },
          "execution_count": 461
        }
      ]
    },
    {
      "cell_type": "code",
      "metadata": {
        "id": "YjalhUJhK__G",
        "colab_type": "code",
        "outputId": "f9a3544f-d4ac-442c-e83a-504a70f6681a",
        "colab": {
          "base_uri": "https://localhost:8080/",
          "height": 88
        }
      },
      "source": [
        "#RandomForest \n",
        "#Accuracy = 0.5769\n",
        "rf.fit(X_train_diff1,y_train)\n",
        "y_pred_rf1 = rf.predict(X_test_diff1)\n",
        "metrics.accuracy_score(y_test, y_pred_rf1)"
      ],
      "execution_count": 0,
      "outputs": [
        {
          "output_type": "stream",
          "text": [
            "/usr/local/lib/python3.6/dist-packages/ipykernel_launcher.py:1: DataConversionWarning: A column-vector y was passed when a 1d array was expected. Please change the shape of y to (n_samples,), for example using ravel().\n",
            "  \"\"\"Entry point for launching an IPython kernel.\n"
          ],
          "name": "stderr"
        },
        {
          "output_type": "execute_result",
          "data": {
            "text/plain": [
              "0.5769230769230769"
            ]
          },
          "metadata": {
            "tags": []
          },
          "execution_count": 463
        }
      ]
    },
    {
      "cell_type": "code",
      "metadata": {
        "id": "2F1ZnEpYLXdL",
        "colab_type": "code",
        "outputId": "d019a125-8644-4d38-f249-fd0cd8d385e7",
        "colab": {
          "base_uri": "https://localhost:8080/",
          "height": 34
        }
      },
      "source": [
        "#Decision Tree\n",
        "#Accuracy 0.5366\n",
        "from sklearn.tree import DecisionTreeClassifier\n",
        "dt = DecisionTreeClassifier()\n",
        "dt.fit(X_train_diff,y_train)\n",
        "y_pred_dt = dt.predict(X_test_diff)\n",
        "metrics.accuracy_score(y_test, y_pred_dt)"
      ],
      "execution_count": 0,
      "outputs": [
        {
          "output_type": "execute_result",
          "data": {
            "text/plain": [
              "0.5366300366300366"
            ]
          },
          "metadata": {
            "tags": []
          },
          "execution_count": 465
        }
      ]
    },
    {
      "cell_type": "code",
      "metadata": {
        "id": "Q7pNfxqAL2au",
        "colab_type": "code",
        "outputId": "9bd0e094-2d84-4449-9cdd-2bfaa32d5b55",
        "colab": {
          "base_uri": "https://localhost:8080/",
          "height": 34
        }
      },
      "source": [
        "#Accuracy 0.5769\n",
        "dt.fit(X_train_diff1,y_train)\n",
        "y_pred_dt1 = rf.predict(X_test_diff1)\n",
        "metrics.accuracy_score(y_test, y_pred_dt1)"
      ],
      "execution_count": 0,
      "outputs": [
        {
          "output_type": "execute_result",
          "data": {
            "text/plain": [
              "0.5769230769230769"
            ]
          },
          "metadata": {
            "tags": []
          },
          "execution_count": 466
        }
      ]
    },
    {
      "cell_type": "code",
      "metadata": {
        "id": "88vbGnTKMIXy",
        "colab_type": "code",
        "outputId": "08982c83-b932-48af-ce66-a5c7de68cce1",
        "colab": {
          "base_uri": "https://localhost:8080/",
          "height": 122
        }
      },
      "source": [
        "#SVM\n",
        "#Accuracy 0.5636\n",
        "from sklearn.svm import SVC\n",
        "svm = SVC()\n",
        "svm.fit(X_train_diff,y_train)\n",
        "y_pred_svm = svm.predict(X_test_diff)\n",
        "metrics.accuracy_score(y_test, y_pred_svm)"
      ],
      "execution_count": 0,
      "outputs": [
        {
          "output_type": "stream",
          "text": [
            "/usr/local/lib/python3.6/dist-packages/sklearn/utils/validation.py:724: DataConversionWarning: A column-vector y was passed when a 1d array was expected. Please change the shape of y to (n_samples, ), for example using ravel().\n",
            "  y = column_or_1d(y, warn=True)\n",
            "/usr/local/lib/python3.6/dist-packages/sklearn/svm/base.py:193: FutureWarning: The default value of gamma will change from 'auto' to 'scale' in version 0.22 to account better for unscaled features. Set gamma explicitly to 'auto' or 'scale' to avoid this warning.\n",
            "  \"avoid this warning.\", FutureWarning)\n"
          ],
          "name": "stderr"
        },
        {
          "output_type": "execute_result",
          "data": {
            "text/plain": [
              "0.5636446886446886"
            ]
          },
          "metadata": {
            "tags": []
          },
          "execution_count": 467
        }
      ]
    },
    {
      "cell_type": "code",
      "metadata": {
        "id": "aMO7jMp6McVc",
        "colab_type": "code",
        "outputId": "cff5bdbe-bb9f-4e3d-f50c-539a0e24dc2a",
        "colab": {
          "base_uri": "https://localhost:8080/",
          "height": 122
        }
      },
      "source": [
        "#Accuracy 0.6003\n",
        "svm.fit(X_train_diff1,y_train)\n",
        "y_pred_svm1 = svm.predict(X_test_diff1)\n",
        "metrics.accuracy_score(y_test, y_pred_svm1)"
      ],
      "execution_count": 0,
      "outputs": [
        {
          "output_type": "stream",
          "text": [
            "/usr/local/lib/python3.6/dist-packages/sklearn/utils/validation.py:724: DataConversionWarning: A column-vector y was passed when a 1d array was expected. Please change the shape of y to (n_samples, ), for example using ravel().\n",
            "  y = column_or_1d(y, warn=True)\n",
            "/usr/local/lib/python3.6/dist-packages/sklearn/svm/base.py:193: FutureWarning: The default value of gamma will change from 'auto' to 'scale' in version 0.22 to account better for unscaled features. Set gamma explicitly to 'auto' or 'scale' to avoid this warning.\n",
            "  \"avoid this warning.\", FutureWarning)\n"
          ],
          "name": "stderr"
        },
        {
          "output_type": "execute_result",
          "data": {
            "text/plain": [
              "0.6002747252747253"
            ]
          },
          "metadata": {
            "tags": []
          },
          "execution_count": 468
        }
      ]
    }
  ]
}